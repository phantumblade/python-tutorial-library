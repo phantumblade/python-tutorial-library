{
 "cells": [
  {
   "cell_type": "markdown",
   "metadata": {
    "slideshow": {
     "slide_type": "slide"
    }
   },
   "source": [
    "# <font color=olive>Introduzione a Python e accenni alla Programmazione Funzionale</font>\n",
    "\n",
    "## Obiettivi di questa parte del corso\n",
    "Introdurre la programmazione funzionale e la programmazione in Python. \n",
    "\n",
    "Perche' la scelta di Python? Non e' un linguaggio principalmente funzionale, ma e' un linguaggio multiparadigma. Ci sono linguaggi principalmente funzionali (e.g. OCaml, Haskell, F#). Abbiamo scelto Python perche' e' molto usato mentre i linguaggi prima menzionati hanno una diffusione piu' ristretta. Attualmente la maggiore parte dei linguaggi include diversi paradigmi di programmazione; sia procedurale che OO che funzionale. Altri vantaggi di Python sono:\n",
    "* E' `relativamente` facile da imparare\n",
    "* Mentre Python stesso e' interpretato e quindi meno efficiente, e' stato progettato per potersi interfacciare con librerie scritte in C, quindi molto piu' efficienti.\n",
    "* Esiste una quantita' enorme di librerie\n",
    "\n",
    "Perche' la programmazione funzionale?\n",
    "* Ha sottostante una teoria matematica (lambda calcolo)\n",
    "* E' molto diversa dal paradigma procedurale, e quindi vi insegna a pensare alla programmazione da un punto di vista molto diverso (e spesso utile)\n",
    "* Per molti problemi una soluzione funzionale e' la piu' semplice da scrivere\n",
    "* Si presta alla parallelizazzione automatica dei programmi, cosa molto piu' difficile da fare con i linguaggi procedurali o ad oggetti\n",
    "\n",
    "Quali sono gli elementi della programmazione funzionale?\n",
    "* Il programma e' composizione di **funzioni**\n",
    "* Le funzioni possono essere create e usate come qualsiasi altro oggetto: \n",
    "  * possono essere passate come parametri ad altre funzioni e \n",
    "  * ritornate da funzioni.  \n",
    "* In linguaggi puramente funzionali i **dati** (anche quelli strutturati) sono **immutabili** e quindi vengono manipolati attraverso funzioni che non li modificano, ma producono in output nuovi dati. (Come in Java gli oggetti di tipo ``String``!)\n",
    "  * in Python ci sono dati immutabili (i tipi primitivi, stringhe, tuple) e dati mutabili (liste, insiemi, dizionari)\n",
    "*  Si possono definire compuatzioni e dati **lazy**, i cui elementi vengono prodotti solo **se necessario**.   \n",
    "\n",
    "  \n",
    "## Testi di consultazione\n",
    "    - \"Programmare con Python Guida completa\" di Marco Buttu\n",
    "    - \"Functional Python Programming\" di Steven Lott \n",
    "    \n"
   ]
  },
  {
   "cell_type": "markdown",
   "metadata": {
    "slideshow": {
     "slide_type": "slide"
    }
   },
   "source": [
    "## Python\n",
    "* Creato da Guido van Rossum, programmatore olandese: https://it.wikipedia.org/wiki/Guido_van_Rossum\n",
    "* Il nome arriva da Monty Python's Flying Circus: https://it.wikipedia.org/wiki/Monty_Python%27s_Flying_Circus\n",
    "* Primo release 1991\n",
    "* Versione 2.0 release 2000\n",
    "* Versione 3.0 release 2008\n",
    "* Versione 3 e' molto diversa dalla versione 2.0, non e' backward-compatible (cioe' molto codice scritto in 2.x NON GIRERA' senza modifiche su un interprete della versione 3)\n",
    "* Sviluppo della versione 2 e' finito il primo Gennaio 2020\n",
    "\n",
    "## Il software che useremo\n",
    "\n",
    "Nel laboratorio e' installato Anaconda3, che include:\n",
    " * Python 3.7.3\n",
    " * Jupyter Notebooks\n",
    " * Spyder IDE\n",
    " * Tante librerie\n",
    " \n",
    "Noi useremo principalmente `Notebooks` e `Spyder`\n",
    "\n",
    "L'applicazione `anaconda-navigator` fornisce un front-end alle altre funzionalita'. Per lanciarlo:\n",
    "\n",
    "`/opt/anaconda3/bin/anaconda-navigator`\n",
    "\n"
   ]
  },
  {
   "cell_type": "markdown",
   "metadata": {
    "slideshow": {
     "slide_type": "slide"
    }
   },
   "source": [
    "### Jupyter Notebook \n",
    "\n",
    "Il contenuto delle lezioni che proiettero' a lezione e' contenuto in files `notebook` (estensione `.ipynb`) che contengono *testo* e *codice*.   \n",
    "Un file notebook e' diviso in **celle**; ogni cella puo'contenere \n",
    "- testo annotato (in modo simile al `HTML`), cella **Markdown**, oppure \n",
    "- una finestra per immettere istruzioni Python che si possono eseguire, cella **Code**.  \n",
    "\n",
    "Markdown e' un linguaggio di markup molto semplice. Link https://it.softpython.org/project/markdown.html a una breve sintesi del linguaggio.\n",
    "\n",
    "**Jupyter Notebooks** e' una applicazione client-server. Una volta lanciata apre una pagina in un browser nel quale si possono caricare o creare dei file notebook (estensione `.ipynb`). \n",
    "\n",
    "Per questo corso **non e' necessario** che sappiate editare un file notebook. Vi faccio solamente una breve introduzione nel caso vogliate usare notebook per prendere appunti (potete creare un vostro file notebook, oppure modificare quello che io vi fornisco.)  \n",
    "\n",
    "**Utilizzare Jupyter Notebooks**\n",
    "Lanciare Jupyter Notebooks, o dal navigator o da riga di comando. **Jupyter Labs** e' un software piu' recente, evoluzione di Jupyter Notebooks. Guardatelo se volete ma io non l'ho usato.\n",
    "\n",
    "Una volta  lanciato avrete una vista sul vostro filesystem. E' possibile modificare la directory di default, vedere (1). Scaricate da Moodle il file notebook della lezione, e apritelo dentro Notebooks.\n",
    "\n",
    "Se cliccate su una cella questa diventa la cella corrente e avra' un contorno o verde o blu. Verde indica che siete in modalita' **Edit**, mentre blu indica la modalita' **Command**. In Edit mode, potete eseguire la cella digitando `ctl-enter`. Per una cella Markdown, appare il markup formattato. Per una cella Code, viene eseguito il codice Python.\n",
    "\n",
    "**NB** ci possono essere molte celle Code in un notebook, ma tutte queste condividono lo stesso kernel. Quindi gli oggetti e variabili che si creano eseguendo una cella sono disponibili nelle altre. L'ordine di esecuzione e' importante: se eseguite una cella che fa riferimento a un oggetto creato in una cella precedente, ma quella cella non e' stata eseguita, l'oggetto non sara' definito.\n",
    "\n",
    "**Attenzione**, in modalita' Command, ci sono molti shortcut definiti, quindi e' meglio non digitare in modalita' Command (a meno di non sapere bene cosa fanno i comandi). Potreste modificare/cancellare per sbaglio delle celle. Per entrare in modalita' Edit, si puo' o premere `enter` o cliccare nella cella con il mouse. (Se non volete rischiare, settate il file a read-only.)\n"
   ]
  },
  {
   "cell_type": "raw",
   "metadata": {
    "slideshow": {
     "slide_type": "slide"
    }
   },
   "source": [
    "(1) Per modificare la directory di default di jupiter notebook\n",
    "bisogna generare e modificare il config file, come segue\n",
    "eseguire da riga di comando:\n",
    "\n",
    ">jupyter notebook --generate-config\n",
    "\n",
    "Questo genera il file\n",
    "       \n",
    "  .jupiter/jupyter_notebook_config.py  \n",
    "\n",
    "nella home directory (il file e' uno script Python!)\n",
    "\n",
    "Trovate, scommentate  e modificate la seguene riga \n",
    "\n",
    "# c.NotebookApp.notebook_dir = ''\n",
    "\n",
    "mettendo fra apici la directory che volete"
   ]
  },
  {
   "cell_type": "markdown",
   "metadata": {
    "slideshow": {
     "slide_type": "slide"
    }
   },
   "source": [
    "### Spyder\n",
    "Spyder e' una IDE per Python inclusa nella distribuzione Anaconda. Per fare gli esercizi e' consigliabile usarla perche' e' quella che userete all'esame. Comunque siete liberi di l'IDE che volete (Python per Eclipse, Visual Studio, PyCharm che ha una versione freeware) oppure di usare l'interprete da riga di comando.\n",
    "\n",
    "Spyder puo' essere lanciato da anaconda-navigator o da riga di comando. Quando si lancia, si vedono dei pannelli. A sinistra c'e il pannello Editor, in basso a destra la console IPython, e in alto a destra un pannello che contiene diverse tab per altre viste.\n",
    "\n",
    "Nel pannello `IPython` si possono digitare direttamente istruzioni Python e avere l'output. Si possono iterare le istruzioni precedenti usando freccia-su e freccia-giu'. \n",
    "\n",
    "I file nell'Editor possono essere hanno dei comandi utili per l'esecuzione, che si possono vedere nel menu *Run*, dove sono presenti anche gli shortcut. \n",
    "\n",
    "* `F5` - esegue tutto il file\n",
    "* `ctl-enter` - esegue la cella corrente\n",
    "* `F9` - esegue la riga corrente\n",
    "\n",
    "Se l'interprete non risponde (magari e' in un loop infinito) si puo' interrompere con `ctl-C`. Se anche questo non funziona, si puo' chiudere il pannello di IPython, e crearne uno nuovo. Se fate questo perdete lo stato corrente e dovete ricrearlo."
   ]
  }
 ],
 "metadata": {
  "kernelspec": {
   "display_name": "Python 3",
   "language": "python",
   "name": "python3"
  },
  "language_info": {
   "codemirror_mode": {
    "name": "ipython",
    "version": 3
   },
   "file_extension": ".py",
   "mimetype": "text/x-python",
   "name": "python",
   "nbconvert_exporter": "python",
   "pygments_lexer": "ipython3",
   "version": "3.7.6"
  }
 },
 "nbformat": 4,
 "nbformat_minor": 4
}
