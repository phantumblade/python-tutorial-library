{
 "cells": [
  {
   "cell_type": "markdown",
   "metadata": {},
   "source": [
    "## REPL: Read, Evaluate, Print, Loop\n",
    "\n",
    "\n",
    "Python, e' un linguaggio **interpretato** (caratteristica dei linguaggi funzionali). Quando valutiamo un programma nell'interprete Python ci troviamo in un REPL (per *read, evaluate, print loop*). Se si inserisce un'espressione, questa viene immediatamente interpretata e il suo risultato scritto. *(NON e' necessario scrivere `print`!)* La cella qua sotto e' una cella di tipo ***Code***.  Per esempio, se digitate un numero poi `ctrl-enter`, viene stampato il valore del numero. Se digitate un'espressione poi `ctrl-enter`, viene stampato il risultato dell'espressione. Provatelo ora qui sotto."
   ]
  },
  {
   "cell_type": "markdown",
   "metadata": {},
   "source": []
  },
  {
   "cell_type": "code",
   "execution_count": null,
   "metadata": {},
   "outputs": [],
   "source": []
  },
  {
   "cell_type": "markdown",
   "metadata": {},
   "source": []
  },
  {
   "cell_type": "code",
   "metadata": {
    "ExecuteTime": {
     "end_time": "2025-07-03T14:54:54.079911Z",
     "start_time": "2025-07-03T14:54:54.076574Z"
    }
   },
   "source": [
    "23+33"
   ],
   "outputs": [
    {
     "data": {
      "text/plain": [
       "56"
      ]
     },
     "execution_count": 3,
     "metadata": {},
     "output_type": "execute_result"
    }
   ],
   "execution_count": 3
  },
  {
   "cell_type": "markdown",
   "metadata": {},
   "source": [
    "###  Hello World in Python (il piu' in breve!)\n",
    "\n",
    "Il programma che stampa `Hello World` ora diventa ancora piu' semplice. Basta sapere che:\n",
    "* Python ha una funzione built-in `print` che stampa i suoi argomenti\n",
    "* Per scrivere un letterale di stringa si scrive la stringa racchiusa fra doppi apici (o apici semplici).\n",
    "\n",
    "Quindi il programma diventa: "
   ]
  },
  {
   "cell_type": "code",
   "execution_count": null,
   "metadata": {},
   "outputs": [
    {
     "name": "stdout",
     "output_type": "stream",
     "text": [
      "Hello World\n"
     ]
    }
   ],
   "source": [
    "print(\"Hello World\")"
   ]
  },
  {
   "cell_type": "markdown",
   "metadata": {},
   "source": [
    "### Sintassi di base\n",
    "- Il ragruppamento di istruzioni (blocco) e' fatto con l'**indentazione** invece che con le parentesi graffe\n",
    "- Il livello di indentazione dev'essere uniforme in un blocco\n",
    "- Nei costrutti il fatto che la riga successiva sia l'inizio di un blocco e' segnalato da due punti (:)\n",
    "- La convenzione per l'indentazione e' 4 spazi\n",
    "- Alcune versioni di Python non permettono di mischiare spazi e tabspaces, pero' molti editor per Python rimpiazzano tab con spazi\n",
    "- Python e' **case-sensitive**\n",
    "- i letterali di stringa possono essere delimitati da `\"` o da `'` (cosa utile per poter usare `\"` o `'` all'interno della stringa)"
   ]
  },
  {
   "cell_type": "code",
   "execution_count": null,
   "metadata": {},
   "outputs": [],
   "source": [
    "# Costrutto if then else. Qui l'else appartiene al secondo 'if'\n",
    "if False:\n",
    "    if True:\n",
    "        print('a')\n",
    "    else:\n",
    "        print('b')\n",
    "print('done')"
   ]
  },
  {
   "cell_type": "code",
   "execution_count": null,
   "metadata": {},
   "outputs": [],
   "source": [
    "# Costrutto if then else. Qui l'else appartiene al primo 'if'\n",
    "if False:\n",
    "    if True:\n",
    "        print('a')\n",
    "else:\n",
    "    print('b')\n",
    "print('done')"
   ]
  },
  {
   "cell_type": "code",
   "execution_count": null,
   "metadata": {},
   "outputs": [],
   "source": [
    "# Prima di eseguire il seguente, prova a predire cosa stampera'\n",
    "if True:\n",
    "    if True:\n",
    "        print('a')\n",
    "    else:\n",
    "        if True:\n",
    "            print('b')\n",
    "    print('c')\n",
    "    if False:\n",
    "        print('d')\n",
    "    else:\n",
    "        print('e')\n",
    "else:\n",
    "    print('f')"
   ]
  },
  {
   "cell_type": "markdown",
   "metadata": {},
   "source": [
    "### Commenti, assegnamento e test di uguaglianza\n",
    "- `#` inizia un commento di riga\n",
    "- Non ci sono commenti multi-riga\n",
    "    - L'IDE puo' aiutare a fare commenti multi-riga. Nei notebooks, seleziona delle righe e digita `ctl-/`.  In Spyder, seleziona le righe e digita o `ctl-1` oppure `ctl-4`\n",
    "- Come per Java e C\n",
    "   -  `=` (singolo) e' assegnamento ad un variabile\n",
    "   -  `==` (doppio) e' un test per ugualianza"
   ]
  },
  {
   "cell_type": "code",
   "execution_count": null,
   "metadata": {},
   "outputs": [],
   "source": [
    "Usate ctl-/ per\n",
    "commentare queste prime\n",
    "tre righe, poi valutate la cella\n",
    "a = 6    # assegna il valore 5 a a\n",
    "if a == 5:     # controlla se l'attuale valore dell'oggetto assegnato ad 'a' e' uguale a 5\n",
    "    print(\"a e' 5\")\n",
    "else:\n",
    "    print(\"a non e' 5\")"
   ]
  },
  {
   "cell_type": "markdown",
   "metadata": {},
   "source": [
    "## Variabili e tipi\n",
    "* La dichiarazione di una variabile non ne specifica il tipo (Python e' ***tipato dinamicamente***, non staticamente come Java)\n",
    "* I tipi sono memorizzati con gli oggetti\n",
    "* Tutte le variabili sono riferimenti ad oggetti\n",
    "* Se si assegna ad una variabile un oggetto di un tipo diverso da quello riferito precedentemente dalla variabile, non c'e' nessun *cambio di tipo*. Semplicemente la variable ora riferisce ad un oggetto diverso. Quello precedente non e' stato modificato.\n",
    "* La funzione built-in `type` ritorna il tipo di un oggetto."
   ]
  },
  {
   "cell_type": "code",
   "execution_count": 7,
   "metadata": {},
   "outputs": [],
   "source": [
    "# foo = 3\n",
    "# bar = foo\n",
    "# print('La variabile foo riferisce ad un oggetto di tipo',type(foo),'con valore',foo)\n",
    "# print('La variabile bar riferisce allo stesso oggetto',type(bar),'con valore',bar)\n",
    "\n",
    "# foo = 3.5\n",
    "# print('La variabile foo riferisce ora ad un oggetto di tipo',type(foo),'con valore',foo)\n",
    "# print('La variabile bar riferisce sempre all\\'oggetto originale',type(bar),'con valore',bar)"
   ]
  },
  {
   "cell_type": "markdown",
   "metadata": {},
   "source": [
    "## Alcuni tipi built-in\n",
    "\n",
    "Prima di elencare alcuni dei tipi, notiamo che Python ha il concetto di **(im)mutabilita'**. Un *valore di tipo immutabile non puo' essere modificato* dopo la sua creazione. Nella programmazione funzionale pura tutti i tipi sono immutabili.\n",
    "\n",
    "### Numeri\n",
    "Tutti i numeri sono **immutabili**.\n",
    " - **int**: numeri interi\n",
    " - **float**:  con punto decimale, oppure la notazione mantissa/esponente \n",
    " - **complex**:   usa `j` (non `i`) per la parte immaginaria \n",
    "\n",
    "### Sequenze\n",
    "- **str:** sequenza di caratteri. Sono **immutabili**. NB non esiste in Python il tipo *carattere*, c'e' solo stringa di lunghezza 1.\n",
    "- **list:** sequenza di oggetti. Sono **mutabili**. Convenzionalmente gli elementi sono tutti dello stesso tipo, pero' possono non esserlo. Una lista si puo' scrivere come la sequenza dei suoi elementi separati da `,` e racchiusa in parentesi quadre (`[` e `]`). \n",
    "- **tuple:** sequenza di oggetti. Sono spesso di tipi diversi. Sono **immutabili**, pero' i loro elementi possono essere di un tipo mutabile (ad esempio liste). Una tupla si puo' scrivere come la sequenza dei suoi elementi separati da `,` e racchiusa in parentesi tonde (`(` e `)`).\n",
    "\n",
    "### Iterare su una sequenza: `for`\n",
    "\n",
    "Il costrutto `for` permette di iterare sugli elementi di una sequenza eseguendo un blocco di codice per ogni elemento (simile al `foreach` Java che vedremo a breve). La sintassi e' la seguente\n",
    "\n",
    "```\n",
    "for <var> in <seq>:\n",
    "    ...\n",
    "    ...\n",
    "```\n",
    "\n",
    "Il `for` puo' avere una clausola `else`, che viene eseguita se il loop termina normalmente (cioe' senza un `break`)\n",
    "\n",
    "\n",
    "### Altri Tipi\n",
    "- **boolean:** `True` e `False`\n",
    "\n",
    "- **dictionary:** insiemi di coppie chiave-valore\n",
    "\n",
    "- **set:** insieme in senso matematico (non ci sono ripetizioni).\n",
    "- **file:** per input/output\n",
    "- **function:** una funzione e' un tipo di Python, che sara' molto importante per la programmazione funzionale.\n",
    "- **type:** e' un tipo, applicando la funzione `type` ad un oggetto, viene ritornato un oggetto di tipo `type`.\n",
    "- **None:** un tipo speciale, indica l'assenza di un valore\n",
    "\n",
    "### Letterali\n",
    "Un letterale e' la sintassi che un linguaggio accetta per denotare nel programma un oggetto di un tipo. Per esempio, nell'istruzione `a = \"foo\"`, `\"foo\"` e' un letterale per una stringa.\n",
    "\n",
    "Non confondete un letterale con un tipo.  Per esempio, `0x10` e' un letterale per un **int** in esadecimale, mentre `0o20` e' un letterale per un **int** in ottale. Il tipo di entrambi, comunque, e' `int`, e sono uguali.\n",
    "          "
   ]
  },
  {
   "cell_type": "markdown",
   "metadata": {},
   "source": [
    "## int\n",
    "\n",
    "* Interi possono essere arbitrariamente grandi (come ***BigInteger*** in Java)\n",
    "* `0x` inizia un letterale per un `int` in esadecimale\n",
    "* `0o` inizia un letterale per un `int` in ottale (il secondo carattere e' 'o' come Otranto)\n",
    "* `0b` inizia un letterale per un `int` in binario\n",
    "* In Python un letterale per un **int** NON PUO' iniziare con uno `0`\n",
    "* Si puo' anche usare il maiuscolo (`0X`,`0O`,`0B`)"
   ]
  },
  {
   "cell_type": "code",
   "execution_count": 5,
   "metadata": {},
   "outputs": [
    {
     "data": {
      "text/plain": [
       "999999999999999999999999999999999999999999999999999998000000000000000000000000000000000000000000000000000001"
      ]
     },
     "execution_count": 5,
     "metadata": {},
     "output_type": "execute_result"
    }
   ],
   "source": [
    "# Create un int molto grande. Moltiplicatelo (operatore '*'') per un altro int molto grande\n",
    "a=999999999999999999999999999999999999999999999999999999\n",
    "a*a"
   ]
  },
  {
   "cell_type": "markdown",
   "metadata": {},
   "source": [
    "Gli operatori numerici principali sono:\n",
    "- ``+`` per l'addizione\n",
    "- ``*`` per la moltiplicazione\n",
    "- ``/`` per la divisione\n",
    "- ``//`` per la divisione intera\n",
    "- ``**`` per l'elevamento a potenza\n",
    "- ``%`` per il modulo"
   ]
  },
  {
   "cell_type": "code",
   "execution_count": null,
   "metadata": {},
   "outputs": [],
   "source": [
    "print(8 + 3)\n",
    "print(8 * 3)\n",
    "print(8 / 3)\n",
    "print(8 // 3)\n",
    "print(8 ** 3)\n",
    "print(8 % 3)"
   ]
  },
  {
   "cell_type": "markdown",
   "metadata": {},
   "source": [
    "## float\n",
    "Un letterale numerico che contiene un punto decimale diventa un tipo **float**. Se volete zero di tipo **float**, usate ``0.0``\n",
    "\n",
    "Si puo' anche usare un letterale con l'esponente, per esempio `1e100` e `2e-40`"
   ]
  },
  {
   "cell_type": "code",
   "execution_count": null,
   "metadata": {},
   "outputs": [],
   "source": [
    "# Create qualche numero float. Convincetevi che un float creato con un\n",
    "# letterale con l'esponente e' lo stesso di uno creato con il punto decimale"
   ]
  },
  {
   "cell_type": "markdown",
   "metadata": {},
   "source": [
    "## complex\n",
    "Python ha come tipo built-in i **numeri complessi**. In matematica, la parte immaginaria si indica con un `i`. In Python si indica con un ``j``.\n",
    "\n",
    "Si puo' anche creare un numero complesso con ``complex(8,2)``\n",
    "\n",
    "``8 + 2j``\n",
    "\n",
    "Anche se la parte immaginaria e' zero, e' sempre un numero di tipo complesso"
   ]
  },
  {
   "cell_type": "code",
   "execution_count": 6,
   "metadata": {},
   "outputs": [
    {
     "name": "stdout",
     "output_type": "stream",
     "text": [
      "(16+4j) (60+32j)\n"
     ]
    }
   ],
   "source": [
    "# Create qualche numero di tipo complex, e fate un po' di aritmetica\n",
    "# Create due numeri complessi che, moltiplicati insieme, risultano un numero complesso\n",
    "# con la parte immaginaria 0. Verificate che e' sempre un numero di tipo complesso.\n",
    "c1=complex(8,2)\n",
    "c2=8 + 2j\n",
    "c3=c1+c2\n",
    "c4=c1*c2\n",
    "print(c3,c4)\n"
   ]
  },
  {
   "cell_type": "markdown",
   "metadata": {},
   "source": [
    "## bool\n",
    "``True`` e ``False`` sono keywords che rappresentano vero e falso\n",
    "\n",
    "Il concetto e' molto semplice. L'implementazione di Python, pero', puo' causare confusione.\n",
    "\n",
    "In molti linguaggi, per esempio C, si usano gli **int** diversi da 0 per ``True`` e ``0`` per ``False``. Python e' compatibile con questa convenzione, quindi ``True`` delle volte agisce come ``1`` e ``False`` come ``0``. \n",
    "\n",
    "Se un'istruzione si aspetta un valore booleano, Python fa di tutto per convertire qualsiasi valore a un booleano, non solo ``1`` e ``0``. Per un **int**, solo ``0`` e' ``Falso``, qualsiasi altro **int** (anche quelli negativi) sono ``True``. Si puo' vedere il valore booleano di un espressione con la funzione built-in ``bool``\n",
    "\n",
    "Attenzione: anche se ``-5``, nel contesto di un booleano diventa ``True``, quando si fa un confronto diretto con ``True`` non e' uguale.\n",
    "\n"
   ]
  },
  {
   "cell_type": "markdown",
   "metadata": {},
   "source": [
    "## Truthy e Falsy\n",
    "Nella letteratura di Python, si trovano le parole ***Truthy*** e ***Falsy*** che riferiscono al fatto che, per esempio, ``7`` non e' uguale a ``True``, pero' in un contesto booleano Python agisce come se fosse ``True``. Quindi, il valore ``7`` e' ***Truthy***"
   ]
  },
  {
   "cell_type": "code",
   "execution_count": null,
   "metadata": {},
   "outputs": [],
   "source": [
    "print(7 == False, 7 == True)\n",
    "if 7:\n",
    "    print('a')\n",
    "    if 0.0:\n",
    "        print('b')\n",
    "    else:\n",
    "        print('c')"
   ]
  },
  {
   "cell_type": "markdown",
   "metadata": {},
   "source": [
    "Inversamente in un contesto in cui ``False`` e' usato come intero agisce come ``0`` e ``True`` come ``1``. er l'indicizzazione, si potrebbe usare ``False`` e ``True`` come ``0`` e ``1``:"
   ]
  },
  {
   "cell_type": "code",
   "execution_count": null,
   "metadata": {},
   "outputs": [],
   "source": [
    "# suggerimento: NON FATELO MAI\n",
    "ls = [1,2,3,4,5]\n",
    "print(ls[False],ls[True])"
   ]
  },
  {
   "cell_type": "markdown",
   "metadata": {},
   "source": [
    "Per le sequenze ***sequenze**, quelle di lunghezza zero sono ***Falsy***.\n",
    "\n",
    "Quando si usano gli operatori logici ``and`` e ``or``, Python implementa la ***valutazione corto-circuitata*** simile a ``&&`` e ``||`` in C e in Java, ma con qualche peculiarita'). \n",
    "\n",
    "Quando si interpreta ``a or b or c``, se la prima espressione valuta a ``True``, la seconda non viene valutata e viene ritornato il primo valore che e' ***Truthy***. Se non ci sono valori ***Truthy*** viene ritornato l'ultimo valore.\n",
    "\n",
    "Quando si interpreta ``a and b and c``, se la prima espressione valuta a ``False``, la seconda non viene valutata e viene ritornato il primo valore che e' ***Falsy***. Se non ci sono valori ***Falsy*** viene ritornato l'ultimo valore.\n",
    "\n",
    "Le funzioni ``any`` e ``all``:\n",
    "\n",
    "``any`` valuta una sequenza di espressioni e ritorna ``True`` se ce n'e' almeno una ***Truthy***, altrimenti ritorna ``False``. \n",
    "\n",
    "``all`` valuta una sequenza di espressioni e ritorna ``True`` se sono tutte ***Truthy***, altrimenti ritorna ``False``.\n",
    "\n",
    "Sia ``any`` che ``all`` sono corto-circuitate. Nota pero' che, a differenza di ``and`` e ``or`` ritornano sempre un booleano.\n"
   ]
  },
  {
   "cell_type": "code",
   "execution_count": 16,
   "metadata": {},
   "outputs": [
    {
     "name": "stdout",
     "output_type": "stream",
     "text": [
      "7\n",
      "True\n",
      "8\n"
     ]
    },
    {
     "data": {
      "text/plain": [
       "False"
      ]
     },
     "execution_count": 17,
     "metadata": {},
     "output_type": "execute_result"
    }
   ],
   "source": [
    "# Provate a prevedere cosa ritornano le seguenti espressioni.\n",
    "# Poi provate se l'avete azzeccato. Scommentando l'espressione\n",
    "# singola ed eseguendola con ctr enter (attenti all'indentazione\n",
    "# dell'espressione!!!)\n",
    "\n",
    "print (False or 0 or 7 or True)\n",
    "# False or 7\n",
    "print (True or 7)\n",
    "# True or 7\n",
    "print (8 or 9)\n",
    "# 8 or 9\n",
    "False or ''\n",
    "'' or 8\n",
    "#  8 or ''\n",
    "#  False or ''\n",
    "#  0 or False or '' or -5 or 0\n",
    "\n",
    "#False and 7\n",
    "# True and 7\n",
    "# True and 0\n",
    "# True and ''\n",
    "# 7 and 8 and 9\n",
    "# 8 and '' and 9\n",
    "\n",
    "# all([7,8,9])\n",
    "# any(['',\"\",0])"
   ]
  },
  {
   "cell_type": "markdown",
   "metadata": {},
   "source": [
    "\n",
    "<H2 style=\"color:red\">Esempi Truthy-Falsy </H2>\n",
    "\n",
    "Caricate il file `1_Esempi_Truthy.py` nell' IDE Spyder e proviamo a prevedere il risultato delle chiamate delle funzioni. Poi, premendo F9, potete valutare le righe una per una. "
   ]
  },
  {
   "cell_type": "markdown",
   "metadata": {},
   "source": [
    "## Alcuni costrutti e input\n",
    "\n",
    "### `input()`\n",
    "La funzione `input()` richiede all'utente di digitare un input. Puo' avere un argomento, la stringa di prompt."
   ]
  },
  {
   "cell_type": "code",
   "execution_count": null,
   "metadata": {},
   "outputs": [],
   "source": [
    "nome = input('Tuo nome: ')\n",
    "print('Ciao', nome)"
   ]
  },
  {
   "cell_type": "markdown",
   "metadata": {},
   "source": [
    "### `if` istruzione\n",
    "Il costrutto `if` di Python e' piu' strutturato di quello di C o Java. In particolare Per fare un 'else if', si usa la keyword `elif`"
   ]
  },
  {
   "cell_type": "code",
   "execution_count": null,
   "metadata": {},
   "outputs": [],
   "source": [
    "char = input('carattere: ')\n",
    "if char == 'a':\n",
    "    print('Ancona')\n",
    "elif char == 'b':\n",
    "    print('Bologna')\n",
    "elif char == 'c':\n",
    "    print('Como')\n",
    "else:\n",
    "    print('Spanish Inquisition')"
   ]
  },
  {
   "cell_type": "markdown",
   "metadata": {},
   "source": [
    "### `if` espressione condizionale (operatore ternario)\n",
    "\n",
    "\n",
    "\n",
    "In aggiunta a `if` istruzione c'e' (come in C e Java) un `if` epressione (ternaria) che ha la seguente sintassi\n",
    "```\n",
    "<expr-then> if <condizione> else <expr-else>\n",
    "```"
   ]
  },
  {
   "cell_type": "code",
   "execution_count": null,
   "metadata": {},
   "outputs": [],
   "source": [
    "# assegna 5 a x se la condizione e' vera e 6 se e' falsa\n",
    "\n",
    "x=5 if True else 6\n",
    "\n",
    "y=5 if False else 6\n",
    "print(\"x: \" + str(x) + \",y: \" +  str(y))\n"
   ]
  },
  {
   "cell_type": "markdown",
   "metadata": {},
   "source": [
    "### `while`\n",
    "\n",
    "Esegue ripetutamente il blocco di istruzioni che segue fino a che la condizione diventa Falsy\n",
    "\n",
    "In Python, un `while` puo' avere una clausola `else`, che viene eseguita quando la condizione valuta a Falsy.\n",
    "\n",
    "Come il linguaggio C, Python ha `break` e `continue` per i loop (da usare con estrema moderazione!)."
   ]
  },
  {
   "cell_type": "code",
   "execution_count": 6,
   "metadata": {},
   "outputs": [
    {
     "name": "stdout",
     "output_type": "stream",
     "text": [
      "1\n",
      "2\n",
      "3\n",
      "4\n",
      "5\n",
      "6\n",
      "7\n",
      "Abbiamo finito senza interruzione\n"
     ]
    }
   ],
   "source": [
    "# Cosi' il loop non viene interrotto, e esegue l'else.\n",
    "# Se modificate il valore di `interruptAt` a 1,2 o 3, verra' interrotto e non lo eseguera'\n",
    "\n",
    "interruptAt = 8\n",
    "i = 1\n",
    "while (i <= 7):\n",
    "    if (i == interruptAt):\n",
    "        break\n",
    "    print(i)\n",
    "    i += 1\n",
    "else: print('Abbiamo finito senza interruzione')\n"
   ]
  },
  {
   "cell_type": "markdown",
   "metadata": {},
   "source": [
    "\n",
    "### Assegnamento multiplo\n",
    "Si puo' assegnare a piu' di una variabile contemporaneamente, l'assegnamento e' fatto simultaneamente a tutte le variabili per cui si possono scambiare valori di variabile senza bisogno di variabili temporanee."
   ]
  },
  {
   "cell_type": "code",
   "execution_count": 10,
   "metadata": {},
   "outputs": [
    {
     "name": "stdout",
     "output_type": "stream",
     "text": [
      "8 5 7\n",
      "5 8\n",
      "8 9 10\n"
     ]
    }
   ],
   "source": [
    "a,b,c = 5+3,6-1,7\n",
    "print(a,b,c)\n",
    "\n",
    "a,b= b,a\n",
    "print(a,b)\n",
    "\n",
    "d,e,f =(8,9,10)\n",
    "print(d,e,f)\n"
   ]
  },
  {
   "cell_type": "code",
   "execution_count": 4,
   "metadata": {},
   "outputs": [
    {
     "name": "stdout",
     "output_type": "stream",
     "text": [
      "5 6\n",
      "6 5\n"
     ]
    }
   ],
   "source": [
    "# assegnamento multiplo puo' anche essere usato per scambiare due valori\n",
    "\n",
    "a = 5\n",
    "b = 6\n",
    "print(a,b)\n",
    "a,b = b,a\n",
    "print(a,b)"
   ]
  },
  {
   "cell_type": "markdown",
   "metadata": {},
   "source": [
    "## Definizione di funzioni (uno sguardo iniziale)\n",
    "\n",
    "La sintassi per definire una funzione e':\n",
    "\n",
    "```\n",
    "def <nome>(<argomenti>...):\n",
    "    ...\n",
    "    ...\n",
    "```\n",
    "\n",
    "Non c'e' una fase di compilazione; la funzione e' definita quando viene eseguito il `def`\n",
    "\n",
    "Per ritornare un valore si usa la keyword `return`. Se non si ritorna esplicitamente un valore, la funzione ritorna `None`"
   ]
  },
  {
   "cell_type": "code",
   "execution_count": 1,
   "metadata": {},
   "outputs": [
    {
     "name": "stdout",
     "output_type": "stream",
     "text": [
      "foofalse\n"
     ]
    }
   ],
   "source": [
    "# Se modificate la condizione dell' if, foo sara' definita in modo diverso\n",
    "\n",
    "if 0:\n",
    "    def foo():\n",
    "        print('footrue')\n",
    "        return 1\n",
    "else:\n",
    "    def foo():\n",
    "        print('foofalse')\n",
    "foo()\n"
   ]
  },
  {
   "cell_type": "markdown",
   "metadata": {},
   "source": [
    "\n",
    "## Una breve parentesi sulla differenza fra funzioni e metodi\n",
    "\n",
    "Una funzione viene chiamata digitando il nome della funzione seguito dagli argomenti fra parentesi.\n",
    "Nel paradigma ad oggetti, si definisce un oggetto che contiene sia dati (variabili) che funzioni (metodi). I metodi si invocano scrivendo l'oggetto seguito da `.` e nome del metodo:\n",
    "\n",
    "```\n",
    "class HelloWorld:\n",
    "    def hello(self):\n",
    "        print(\"Hello World\")\n",
    "```\n",
    "\n",
    "che si invoca cosi':\n",
    "\n",
    "```\n",
    "   ciao = HelloWorld()  # crea un oggetto di tipo HelloWorld e lo assegna alla variabile ciao\n",
    "   ciao.hello()         # invoca il metodo hello dell'oggetto ciao\n",
    "```\n",
    "   \n",
    "Python ha sia funzioni che oggetti e metodi. \n",
    "Posso definire il precedente codice come funzione\n",
    "\n",
    "```\n",
    "def hello(): \n",
    "   print(\"Hello World\")\n",
    "```   \n",
    "\n",
    "che si invoca cosi'\n",
    "\n",
    "```\n",
    "   hello()\n",
    "```"
   ]
  },
  {
   "cell_type": "code",
   "execution_count": null,
   "metadata": {},
   "outputs": [],
   "source": [
    "# class HelloWorld:\n",
    "#     def hello(self):\n",
    "#         print(\"Hello World\")\n",
    "\n",
    "# ciao = HelloWorld()\n",
    "# ciao.hello()\n",
    "\n",
    "# def hello():\n",
    "#     print(\"Hello World\")\n",
    "\n",
    "# hello()"
   ]
  }
 ],
 "metadata": {
  "kernelspec": {
   "display_name": "base",
   "language": "python",
   "name": "python3"
  },
  "language_info": {
   "codemirror_mode": {
    "name": "ipython",
    "version": 3
   },
   "file_extension": ".py",
   "mimetype": "text/x-python",
   "name": "python",
   "nbconvert_exporter": "python",
   "pygments_lexer": "ipython3",
   "version": "3.10.15"
  }
 },
 "nbformat": 4,
 "nbformat_minor": 4
}
