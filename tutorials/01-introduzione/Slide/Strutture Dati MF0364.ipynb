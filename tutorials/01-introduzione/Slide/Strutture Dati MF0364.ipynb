{
 "cells": [
  {
   "cell_type": "markdown",
   "metadata": {
    "slideshow": {
     "slide_type": "slide"
    }
   },
   "source": [
    "## Sequenze\n",
    "\n",
    "L'**accesso** agli elementi di una sequenza si fa con la notazione degli array cioe' mettendo l'indice fra parentesi quadre:`aSeq[i]` ritorna l'iesimo elemento della sequenza. \n",
    "\n",
    "Gli **indici** iniziano da 0: il primo elemento e' `aSeq[0]` Si possono specificare indici negativi e se l'indice e' negativo, si inizia dalla fine della sequenza: `aSeq[-1]` e' l'ultimo elemento.\n",
    "Se `ls=[1,2,3,4]`: \n",
    "- `1` e' indicizzato da `0` e `-4`, \n",
    "- `2` e' indicizzato da `1` e `-3`,\n",
    "- `3` e' indicizzato da `2` e `-2`,\n",
    "- `4` e' indicizzato da `3` e `-1`,\n",
    "\n",
    "\n",
    "Ci sono delle funzionalita' definite per tutte le sequenze.\n",
    "\n",
    "L'operatore **`+`** ritorna la concatenazione delle due sequenze. Non altera le sequenze, ne crea una nuova. Le due sequenze devono esserre dello stesso tipo.\n",
    "\n",
    "L'operatore **`*`** ritorna `n` ripetizioni della sequenza.\n",
    "\n",
    "**`x in aSeq`** ritorna ``True`` se ``x`` e' un elemento della sequenza, altrimenti ``False``. Si puo' negare con `not (x in aSeq)` oppure `x not in aSeq`\n",
    "\n",
    "Si puo iterare una sequenza con `for x in aSeq:`\n",
    "\n",
    "Si puo' usare **slicing** su tutte le sequenze. La sintassi completa e' `aSeq[inizio:fine:passo]`. Vediamo nel seguito dettagli ed esempi."
   ]
  },
  {
   "cell_type": "markdown",
   "metadata": {
    "slideshow": {
     "slide_type": "slide"
    }
   },
   "source": [
    "\n",
    "\n",
    "La funzione built-in **`len()`** ritorna il numero di elementi nella sequenza.\n",
    "\n",
    "Le funzioni built-in **`min()`** e **`max()`** ritornano il minimo e il massimo elemento della sequenza. E' un errore se ci sono due elementi non comparabili nella sequenza.\n",
    "  \n",
    "Il metodo `aSeq.index(x)` ritorna l'indice della **prima** occorenza di ``x`` in ``aSeq``. Se ``x`` non c'e', ritorna un errore. Usate **`in`** prima per evitare l'errore.\n",
    "\n",
    "Il metodo `aSeq.count(x)` ritorna il numero di volte che l'elemento ``x`` appare nella sequenza.\n",
    "\n",
    "Come visto in precedenza si puo' iterare su una sequenza con il costrutto `for`:\n",
    "```\n",
    "for <var> in <seq>:\n",
    "    ...\n",
    "    ...\n",
    "```"
   ]
  },
  {
   "cell_type": "markdown",
   "metadata": {},
   "source": [
    "## Stringhe\n",
    "\n",
    "Le stringhe sono sequenze di caratteri. In Python, non esiste un tipo di dati *carattere*, ci sono solo stringhe di lunghezza 1.\n",
    "\n",
    "**Il tipo str e' immutabile**\n",
    "\n",
    "Ci sono molte varianti di letterali per le stringhe. Quella piu' comune usa un apice singolo: `a = 'foo'`\n",
    "\n",
    "Come sempre, c'e' il problema: e se voglio un apice singolo nella stringa? Per questo si puo' usare il carattere di escape: `\\`.  Quindi `a = 'fo\\'o'`\n",
    "\n",
    "Python offre un'altra soluzione: si possono usare i doppi apici per delimitare una stringa. Quindi `a = \"fo'o\"`.  Ovviamente, potrei voler creare una stringa che contiene sia un apice singolo che un doppio apice, a questo punto devo usare il carattere di escape.\n",
    "\n",
    "Per stringhe multi-line, si puo' usare o `'''` (tre singoli apici) o `\"\"\"` (tre doppi apici)  come delimitatore:\n"
   ]
  },
  {
   "cell_type": "code",
   "execution_count": null,
   "metadata": {},
   "outputs": [],
   "source": [
    "print('''Questa e' una\n",
    "        stringa\n",
    "      su tre righe'''\n",
    "     )\n",
    "print(\"\"\"Lo e'\n",
    " anche\n",
    "   questa\"\"\"\n",
    "     )"
   ]
  },
  {
   "cell_type": "markdown",
   "metadata": {},
   "source": [
    "      \n",
    "Il backslash puo' anche essere usato per inserire caratteri speciali, per esempio `\\n` per newline o `\\t` per tab. Per inserire un `\\`, si usa `\\\\`\n",
    "\n",
    "### stringhe raw\n",
    "Se la scrittura di una stringa comporta usare molte volte `\\\\` si puo' usare una **raw string** che inizia con `r` seguito da una stringa, e nella stringa il backslash non e' interpretato come carattere di escape. Ad esempio"
   ]
  },
  {
   "cell_type": "code",
   "execution_count": null,
   "metadata": {},
   "outputs": [],
   "source": [
    "r'foo\\bar\\nerf'"
   ]
  },
  {
   "cell_type": "markdown",
   "metadata": {},
   "source": [
    "### f-string (interpolazione)\n",
    "In Python 3.6 c'e' un modo comodo per formattare una stringa, chiamato **f-strings** che inizia con `f` seguito da una stringa. Questo metodo permette di includere il risultato della valutazione di una espressione dentro un letterale di stringa includendolo fra parentesi graffa aperta `{` e parentesi graffa chiusa`}`. Ad esempio"
   ]
  },
  {
   "cell_type": "code",
   "execution_count": null,
   "metadata": {},
   "outputs": [],
   "source": [
    "f'0 or False or  or -5 or 0={0 or False or \"\" or -5 or 0}'"
   ]
  },
  {
   "cell_type": "markdown",
   "metadata": {},
   "source": [
    "### stringhe consecutive\n",
    "Cosa succede se  in una stringa si usano due doppi apici? CIoe' `\"foo\"\"bar\"` cosa produce? Provatelo"
   ]
  },
  {
   "cell_type": "code",
   "execution_count": null,
   "metadata": {},
   "outputs": [],
   "source": [
    "\"foo\"\"bar\""
   ]
  },
  {
   "cell_type": "markdown",
   "metadata": {},
   "source": [
    "Perche' questo output? Perche' c'e' un'altra particolarita' sintattica di Python: stringhe consecutive sono concatenate l'una all'altra.\n",
    "\n",
    "Ora guardiamo alcuni metodi di `str`."
   ]
  },
  {
   "cell_type": "markdown",
   "metadata": {},
   "source": [
    "<H2 style=\"color:red\"> Esempi metodi su stringhe </H2>\n",
    "\n",
    "Per dimostrare alcuni dei metodi piu' comuni per le stringhe caricate il file ``2_StringMethods.py`` nell' IDE Spyder. Cosi', premendo F9, potete valutare le righe una per una.\n",
    "\n",
    "**NB** Le stringhe sono immutabili. Quindi, quando vedete un metodo 'replace' che dice di 'rimpiazzare' elementi di una stringa, sappiate che non modifica nessuna stringa; crea una nuova stringa che corrisponde a quella che ottereste modificando la stringa originale. (Questo e' vero anche per le `String` di Java)"
   ]
  },
  {
   "cell_type": "code",
   "execution_count": null,
   "metadata": {},
   "outputs": [],
   "source": [
    "# Eseguite il loop prima come e' scritto\n",
    "# Poi scommentate il 'break' e rieseguite\n",
    "\n",
    "for char in 'foo':\n",
    "    print(char)\n",
    "    break\n",
    "else:\n",
    "    print('finito normalmente')\n",
    "print('dopo il loop')"
   ]
  },
  {
   "cell_type": "markdown",
   "metadata": {},
   "source": [
    "## Slicing\n",
    "Slicing e' un'operazione definita per tutte le sequenze, ma guardiamola utilizzando le stringhe\n",
    "\n",
    "Fare una slice di un sequenza vuol dire produrre un'altra sequenza (nuova) a partire dagli elementi della sequenza originale.\n",
    "\n",
    "Per definire uno slice si specifica l'indice della sequenza da cui partire quello a cui fermarsi e infine il passo a cui prendere gli elementi: `aSeq[inizio:fine:passo]` (Ognuno dei parametri e' opzionale ed ha un valore di default.)\n",
    "\n",
    "L'elemento al primo indice e' **incluso**, e quello all'ultimo e' **escluso**.\n"
   ]
  },
  {
   "cell_type": "code",
   "execution_count": null,
   "metadata": {
    "scrolled": true
   },
   "outputs": [],
   "source": [
    "a = 'abcdefg'\n",
    "b=a[1:3:2]  # 'b'\n",
    "b\n",
    "# a"
   ]
  },
  {
   "cell_type": "markdown",
   "metadata": {},
   "source": [
    "Ricordiamo che gli indici iniziano da 0. Quindi 1 indica il secondo elemento ('b') e 3 indica il quarto ('d'). Pero' il 'd' non e' incluso, quindi ritorna 'bc'.\n",
    "* Se non si specifica il `passo` il suo valore e' 1 (e si puo' omettere un `:`)\n",
    "* Se il `passo` e' positivo e \n",
    "    + non si specifica l'`inizio`, si inizia dal primo elemento (`inizio=0`), \n",
    "    + se non si specifica la `fine` si va fino all'ultimo elemento (`fine=len(aSeq)`)"
   ]
  },
  {
   "cell_type": "code",
   "execution_count": null,
   "metadata": {},
   "outputs": [],
   "source": [
    "a[:3]"
   ]
  },
  {
   "cell_type": "markdown",
   "metadata": {},
   "source": [
    "Se non si specifica l'ultimo indice, va fino alla fine:"
   ]
  },
  {
   "cell_type": "code",
   "execution_count": null,
   "metadata": {},
   "outputs": [],
   "source": [
    "a[1:]"
   ]
  },
  {
   "cell_type": "markdown",
   "metadata": {},
   "source": [
    "Cosi', omettendo entrambi, risulta una copia della stringa"
   ]
  },
  {
   "cell_type": "code",
   "execution_count": null,
   "metadata": {},
   "outputs": [],
   "source": [
    "a[:]"
   ]
  },
  {
   "cell_type": "markdown",
   "metadata": {},
   "source": [
    "Abbiamo detto che uno slice viene costruito da una sequenza, ma e' una ***sequenza nuova***. Cosa succede con il codice seguente?"
   ]
  },
  {
   "cell_type": "code",
   "execution_count": null,
   "metadata": {},
   "outputs": [],
   "source": [
    "ls=[1,2,3]\n",
    "ls\n",
    "x=ls[:]\n",
    "print(x)\n",
    "ls[1]='?'\n",
    "print(ls)\n",
    "print(x)"
   ]
  },
  {
   "cell_type": "markdown",
   "metadata": {},
   "source": [
    "Ricordate che gli **indici negativi** indicano che partiamo dall'**ultimo elemento che ha indice -1**:"
   ]
  },
  {
   "cell_type": "code",
   "execution_count": null,
   "metadata": {},
   "outputs": [],
   "source": [
    "# 'abcdefg' -5 ('c') e' incluse 3 ('c') e' escluso\n",
    "a\n",
    "a[-5:2]"
   ]
  },
  {
   "cell_type": "code",
   "execution_count": null,
   "metadata": {},
   "outputs": [],
   "source": [
    "a[3:-1]"
   ]
  },
  {
   "cell_type": "markdown",
   "metadata": {},
   "source": [
    "Se l'ultimo indice e' uguale o minore del primo, risulta una sequenza vuota"
   ]
  },
  {
   "cell_type": "code",
   "execution_count": null,
   "metadata": {},
   "outputs": [],
   "source": [
    "a[3:3]"
   ]
  },
  {
   "cell_type": "markdown",
   "metadata": {},
   "source": [
    "Abbiamo visto che c'e' un terzo elemento nello slice, che e' il `passo`, o step. In questo caso gli elementi vengono prodotti aggiungendo all'indice del precedente il passo."
   ]
  },
  {
   "cell_type": "code",
   "execution_count": null,
   "metadata": {},
   "outputs": [],
   "source": [
    "a[::2]"
   ]
  },
  {
   "cell_type": "code",
   "execution_count": null,
   "metadata": {},
   "outputs": [],
   "source": [
    "a[1::2]"
   ]
  },
  {
   "cell_type": "markdown",
   "metadata": {},
   "source": [
    "Il `passo` puo' essere **negativo**, in questo caso lo slice **va dal destra a sinistra** perche' aggiungiamo un numero negativo. Il primo indice deve essere maggiore del secondo."
   ]
  },
  {
   "cell_type": "code",
   "execution_count": null,
   "metadata": {},
   "outputs": [],
   "source": [
    "print(a)\n",
    "a[7:0:-1]"
   ]
  },
  {
   "cell_type": "markdown",
   "metadata": {},
   "source": [
    "Quando il `passo` e' negativo \n",
    " * se non si specifica l'`inizio`, si inizia dall'ultimo elemento (`inizio=len(aSeq)`), \n",
    " * se non si specifica la `fine` si va fino al primo elemento incluso (`fine=-1`)"
   ]
  },
  {
   "cell_type": "code",
   "execution_count": null,
   "metadata": {},
   "outputs": [],
   "source": [
    "print(a)\n",
    "a[::-1]"
   ]
  },
  {
   "cell_type": "code",
   "execution_count": null,
   "metadata": {},
   "outputs": [],
   "source": [
    "a[-2::-2]"
   ]
  },
  {
   "cell_type": "markdown",
   "metadata": {},
   "source": [
    "## Liste\n",
    "Il tipo `list` e' uno dei piu' usati in Python. E' una sequenza mutabile. Si indica usando le parentesi quadre.\n",
    "\n",
    "Si puo' anche creare con la funzione `list` a partire da un iterabile (lo vediamo in seguito!)"
   ]
  },
  {
   "cell_type": "code",
   "execution_count": 1,
   "metadata": {},
   "outputs": [
    {
     "name": "stdout",
     "output_type": "stream",
     "text": [
      "5\n",
      "primes contiene 7? True\n",
      "primes * 2: [2, 3, 5, 7, 11, 2, 3, 5, 7, 11]\n",
      "primes: [2, 3, 5, 7, 11]\n",
      "Il secondo elemento di primes e' 3\n",
      "Lista da stringa ['f', 'o', 'o', 'b', 'a', 'r']\n"
     ]
    }
   ],
   "source": [
    "# verifichiamo che le funzioni de sequenze funzionano anche per liste\n",
    "primes = [2,3,5,7,11]\n",
    "print(len(primes))\n",
    "print(\"primes contiene 7?\",7 in primes)\n",
    "print(\"primes * 2:\",primes * 2 )\n",
    "print(\"primes:\", primes)\n",
    "print(\"Il secondo elemento di primes e'\",primes[1])\n",
    "print(\"Lista da stringa\",list('foobar'))"
   ]
  },
  {
   "cell_type": "code",
   "execution_count": null,
   "metadata": {},
   "outputs": [],
   "source": []
  },
  {
   "cell_type": "markdown",
   "metadata": {},
   "source": [
    "Liste possono contenere elementi di tipi diversi.  Normalmente, pero', sono tutti dello stesso tipo"
   ]
  },
  {
   "cell_type": "code",
   "execution_count": null,
   "metadata": {},
   "outputs": [],
   "source": [
    "l2 = [1, 'foo', 3.8, 8j, [1,3]]\n",
    "for x in l2:\n",
    "    print(type(x))"
   ]
  },
  {
   "cell_type": "code",
   "execution_count": 2,
   "metadata": {},
   "outputs": [
    {
     "name": "stdout",
     "output_type": "stream",
     "text": [
      "[2, 3, 5, 7, 11] [2, 3, 5, 7, 11]\n",
      "[13, 3, 5, 7, 11] [13, 3, 5, 7, 11]\n",
      "[13, 3, 5, 7, 11, 17] [13, 3, 5, 7, 11, 17]\n",
      "[13, 3, 5, 7, 11, 17, 19, 23] [13, 3, 5, 7, 11, 17]\n"
     ]
    }
   ],
   "source": [
    "# Le liste sono mutabili.\n",
    "primes = [2,3,5,7,11]\n",
    "primes2 = primes\n",
    "print(primes, primes2)\n",
    "primes[0] = 13\n",
    "print(primes,primes2)\n",
    "primes.append(17)\n",
    "print(primes,primes2)\n",
    "primes2= primes2[:]\n",
    "primes.extend([19,23])\n",
    "print(primes,primes2)\n"
   ]
  },
  {
   "cell_type": "markdown",
   "metadata": {},
   "source": [
    "Si possono selezionare parti di una lista (in generale una sequenza) attraverso l'assegnamento multiplo a variabili. Una delle variabili puo'essere preceduta da `*` e a questa viene assegnata la lista dei restanti elementi."
   ]
  },
  {
   "cell_type": "code",
   "execution_count": 11,
   "metadata": {},
   "outputs": [
    {
     "name": "stdout",
     "output_type": "stream",
     "text": [
      "1 2\n",
      "0 [1, 2, 3, 4, 5, 6, 7]\n"
     ]
    }
   ],
   "source": [
    "x1,x2 =[1,2]\n",
    "print(x1,x2)\n",
    "x1,x2,x3 =[1,2,3]\n",
    "x = [0,1,2,3,4,5,6,7]\n",
    "primo, *altri = x        # primo si lega al primo elemento e altri?\n",
    "print(primo,altri)\n",
    "# primo, altri = x        # primo si lega al primo elemento e altri?\n",
    "# # print(primo,altri)\n",
    "# *primi, ultimo = x\n",
    "# print(primi,ultimo)\n",
    "# a,b,c,*rest,d = x\n",
    "# print(a,b,c,rest,d)\n",
    "# primo,*mezzo,ultimo = x\n",
    "# print(primo,mezzo,ultimo)\n",
    "\n",
    "# Il seguente assegnamento genera un errore\n",
    "# primo,*altri,*nonsipuo = x"
   ]
  },
  {
   "cell_type": "code",
   "execution_count": null,
   "metadata": {},
   "outputs": [],
   "source": []
  },
  {
   "cell_type": "markdown",
   "metadata": {},
   "source": [
    "   ### Assegnamento a una slice \n",
    "   \n",
    "   Uno slice ritorna una lista nuova.  Pero', un assegnamento diretto a uno slice modifica la lista"
   ]
  },
  {
   "cell_type": "code",
   "execution_count": 12,
   "metadata": {},
   "outputs": [
    {
     "name": "stdout",
     "output_type": "stream",
     "text": [
      "slice prima [1, 3, 5]\n",
      "slice dopo [7, 3, 5] a dopo assegnazione a sl [1, 2, 3, 4, 5]\n",
      "a dopo assegnazione alla slice [7, 7, 7, 4, 5]\n"
     ]
    }
   ],
   "source": [
    "a = [1,2,3,4,5]\n",
    "sl = a[::2]\n",
    "print('slice prima',sl)\n",
    "sl[0] = 7\n",
    "print('slice dopo', sl, 'a dopo assegnazione a sl', a)\n",
    "a[:3] = [7]*3\n",
    "print('a dopo assegnazione alla slice', a)"
   ]
  },
  {
   "cell_type": "markdown",
   "metadata": {},
   "source": [
    "Assegnamento ad uno slice (di elementi adiacenti) puo' anche modificare la lunghezza di una lista"
   ]
  },
  {
   "cell_type": "code",
   "execution_count": 13,
   "metadata": {
    "scrolled": true
   },
   "outputs": [
    {
     "name": "stdout",
     "output_type": "stream",
     "text": [
      "a accorciato [7, 8, 4, 5]\n",
      "a allungato [7, 8, 9, 10, 11]\n"
     ]
    }
   ],
   "source": [
    "a\n",
    "a[1:3] = [8]\n",
    "print('a accorciato',a)\n",
    "a[2:] = [9,10,11]\n",
    "print('a allungato',a)"
   ]
  },
  {
   "cell_type": "markdown",
   "metadata": {},
   "source": [
    "Per fare l'assegnazione ad uno slice esteso (passo > 1) la lunghezza dello slice e quella della sequenza che si sosituisce devono essere uguali"
   ]
  },
  {
   "cell_type": "code",
   "execution_count": null,
   "metadata": {},
   "outputs": [],
   "source": [
    "print('prima',a)\n",
    "a[::2] = [1,2,3,4] # non puo' essere fatto con [8] * 2 o [8] * 4\n",
    "print('dopo',a)"
   ]
  },
  {
   "cell_type": "markdown",
   "metadata": {},
   "source": [
    "<H2 style=\"color:red\"> 1. Esercizi su stringhe e slicing</H2>\n",
    "\n",
    "Caricate i files ``1_Esercizi_String.py`` e ``3_Esempi_slice.py`` e provate a fare gli esercizi proposti."
   ]
  },
  {
   "cell_type": "markdown",
   "metadata": {},
   "source": [
    "## Tuple\n",
    "Le tuple sono come le liste, pero' sono **immutabili**. Comunque, un elemento di una tupla puo' essere mutabile.\n",
    "\n",
    "Le tuple sono spesso usate con elementi eterogenei.\n",
    "\n",
    "Il letterale per creare una tupla usa le parentesi tonde. Ci sono situazioni nelle quali si possono omettere le parentesi e usare una sequenza di oggetti separati da virgola.\n",
    "\n",
    "Si possono anche creare tuple con la funzione `tuple`"
   ]
  },
  {
   "cell_type": "code",
   "execution_count": null,
   "metadata": {},
   "outputs": [],
   "source": [
    "t1 = (1,2,'three')\n",
    "print(t1,type(t1))\n",
    "t2 = 4,5,'six'\n",
    "print(t2, type(t2))\n",
    "print('primo elemento di t1:',t1[0])\n",
    "print('tupla da lista',tuple([1,2,3]))"
   ]
  },
  {
   "cell_type": "code",
   "execution_count": null,
   "metadata": {},
   "outputs": [],
   "source": [
    "# Il seguente genera un errore, perche' le tuple sono immutabili\n",
    "t1[0] = 8"
   ]
  },
  {
   "cell_type": "markdown",
   "metadata": {},
   "source": [
    "Piccolo inghippo: non e' ovvio come creare una tupla di lunghezza 1.\n",
    "\n",
    "Per le liste, non ci sono ambiguita':\n",
    "`list1 = [2]`     # crea una lista di lunghezza 1\n",
    "\n",
    "Pero' le parentesi tonde sono anche usate per raggruppare le espressioni\n",
    "\n",
    "`foo = (3 + 4) * 5`    # si valuta l'espressione e foo sara' un int con valore 60\n",
    "\n",
    "`tuple1 = (3)`         # si valuta l'espressione e tuple1 sara' un int con valore 3\n",
    "\n",
    "Per evitare cio' si termina la tupla con una virgola.\n",
    "\n",
    "`tuple1 = (3,)`\n",
    "\n",
    "o anche\n",
    "\n",
    "`tuple1 = 3,`\n",
    "\n",
    "Comunque, le parentesi tonde vuote creano una tupla vuota\n",
    "\n",
    "`emptyTuple = ()`\n"
   ]
  },
  {
   "cell_type": "code",
   "execution_count": null,
   "metadata": {},
   "outputs": [],
   "source": [
    "# provate a creare un tuple di lunghezza 1. Controllare il tipo, e la sua lunghezza\n",
    "x=(1,)\n",
    "x"
   ]
  },
  {
   "cell_type": "markdown",
   "metadata": {},
   "source": [
    "## Set\n",
    "Un letterale di tipo `set` (insieme) e' delimitato dai {}\n",
    "\n",
    "Non puo' avere due elementi uguali. \n",
    "\n",
    "`foo = {1,2,3,2,3,1}`\n",
    "\n",
    "crea un `set` di 3 elementi\n",
    "\n",
    "Anche i dizionari (che vedremo fra poco) sono delimitati dai {}.\n",
    "\n",
    "`foo = {}`   # crea un dizionario vuoto, non un insieme vuoto\n",
    "\n",
    "Per creare un `set` vuoto, si deve usare la funzione 'set()'\n",
    "\n",
    "`foo = set()` # crea un set vuoto\n",
    "\n",
    "`set` ha i seguenti operatori built-in:\n",
    "\n",
    "* \\- differenza di insiemi\n",
    "* |  unione di insiemi\n",
    "* &  intersezione di insiemi\n",
    "* ^  contiene gli elementi che sono in uno dei due insiemi, ma non in entrambi"
   ]
  },
  {
   "cell_type": "code",
   "execution_count": null,
   "metadata": {},
   "outputs": [],
   "source": [
    "set1 = {1,2,3,4,5,4,4}\n",
    "set2 = {3,4,5,6,7}\n",
    "\n",
    "print(set1 - set2)\n",
    "print(set2 - set1)\n",
    "print(set1 | set2)\n",
    "print(set1 & set2)\n",
    "print(set1 ^ set2)"
   ]
  },
  {
   "cell_type": "markdown",
   "metadata": {},
   "source": [
    "## Dictionary\n",
    "Un dizionario e' un insieme di coppie chiave-valore.\n",
    "\n",
    "E' un tipo di dato molto utile e molto usato. La sua implementazione e' fatta in modo tale da rendere veloci le operazioni di aggiungere una nuova coppia chiave-valore, e trovare il valore associato ad una chiave.\n",
    "\n",
    "**Le chiavi devono essere immutabili**\n",
    "\n",
    "Il formato letterale per un dizionario e' una sequenza di coppie separate da virgole, racchiuso in parentesi graffe `{` e `}`. In ogni coppia il carattere `:` separa la chiave dal valore.\n"
   ]
  },
  {
   "cell_type": "code",
   "execution_count": 14,
   "metadata": {},
   "outputs": [
    {
     "data": {
      "text/plain": [
       "{'foo': 3, 'bar': 4}"
      ]
     },
     "execution_count": 14,
     "metadata": {},
     "output_type": "execute_result"
    }
   ],
   "source": [
    "dict1 = {'foo': 3, 'bar':4}\n",
    "dict1"
   ]
  },
  {
   "cell_type": "code",
   "execution_count": 15,
   "metadata": {},
   "outputs": [
    {
     "name": "stdout",
     "output_type": "stream",
     "text": [
      "True\n",
      "False\n",
      "False\n"
     ]
    }
   ],
   "source": [
    "# usa keyword 'in' per vedere se una chiave esiste:\n",
    "print('foo' in dict1)\n",
    "print('fo' in dict1)\n",
    "print(3 in dict1)"
   ]
  },
  {
   "cell_type": "code",
   "execution_count": null,
   "metadata": {},
   "outputs": [],
   "source": [
    "# Usa l'indicizzazione per ottenere un valore.\n",
    "print(dict1['bar'])"
   ]
  },
  {
   "cell_type": "code",
   "execution_count": null,
   "metadata": {},
   "outputs": [],
   "source": [
    "# E' un errore se la chiave non esiste\n",
    "print(dict1['goo'])"
   ]
  },
  {
   "cell_type": "code",
   "execution_count": null,
   "metadata": {},
   "outputs": [],
   "source": [
    "# per aggiungere una nuova chiave/valore, oppure sovrascrivere il valore di una chiave esistente:\n",
    "dict1['gorp'] = 'yum'\n",
    "dict1['bar'] = [1,2,3]\n",
    "dict1"
   ]
  },
  {
   "cell_type": "code",
   "execution_count": null,
   "metadata": {},
   "outputs": [],
   "source": [
    "# La tupla e' immutabile, quindi puo' essere usata come chiave:\n",
    "dict1[(1,2,3)] = 'tuple'\n",
    "dict1"
   ]
  },
  {
   "cell_type": "code",
   "execution_count": null,
   "metadata": {},
   "outputs": [],
   "source": [
    "# Come gia' detto, la tupla e' immutabile, quindi puo' essere una chiave...\n",
    "newTuple = (1,2,[3,4])\n",
    "dict1[newTuple] = 'uhoh'\n",
    "dict1\n",
    "a=[3,4]\n",
    "print(f\"a dopo a=[3,4]:{a}\")\n",
    "t=(1,a)\n",
    "print(f\"t dopo t=(1,a):{t}\")\n",
    "a[0]=0\n",
    "print(f\"t dopo a[0]=0:{t}\")"
   ]
  },
  {
   "cell_type": "markdown",
   "metadata": {},
   "source": [
    "Cosa e' successo?\n",
    "\n",
    "Anche se si vede spesso affermato che la chiave di un dizionario Python deve essere immutabile, questo non e' preciso. C'e' un'altro concetto che si chiama ***hashable***. Per essere usato come chiave, un oggetto deve essere hashable. Per essere hashable, deve essere immutabile, e deve contenere solo oggetti immutabili.\n",
    "\n",
    "`newTuple` sopra e' immutabile, pero' contiene una lista, che e' mutabile. Quindi non puo' essere usata come chiave.\n",
    "\n",
    "Il termine **hashable** deriva dal fatto che i dizionari sono basati sulle **hash table** (tabelle hash). "
   ]
  },
  {
   "cell_type": "code",
   "execution_count": null,
   "metadata": {},
   "outputs": [],
   "source": [
    "tuple2 = (1,2,(3,4))\n",
    "dict1[tuple2] = 'uhoh'\n",
    "dict1"
   ]
  },
  {
   "cell_type": "markdown",
   "metadata": {},
   "source": [
    "Per iterare in un dizionario:\n",
    "\n",
    "`for x in dict1:`\n",
    "\n",
    "Fara' un'iterazione su tutte le **chiavi** di `dict1`\n",
    "\n",
    "Ci sono anche i seguenti metodi:\n",
    "\n",
    "`dict1.keys()`   # ritorna la sequenza delle chiavi\n",
    "\n",
    "`dict1.values()` # ritorna la sequenza dei valori\n",
    "\n",
    "`dict1.items()`  # ritorna la sequenza delle coppie chiave/valore"
   ]
  },
  {
   "cell_type": "markdown",
   "metadata": {},
   "source": [
    "## Funzioni di conversione\n",
    "E' importante capire che le **funzioni di conversione di tipo** non cambiano il tipo degli oggetti. In Python, sono funzioni che accettano argomenti di diversi tipi, e cercano di creare un nuovo oggetto del tipo desiderato.  Per esempio:"
   ]
  },
  {
   "cell_type": "code",
   "execution_count": null,
   "metadata": {},
   "outputs": [],
   "source": [
    "a = '3.3'\n",
    "b = float(a)\n",
    "print(b,type(b),a,type(a))"
   ]
  },
  {
   "cell_type": "markdown",
   "metadata": {},
   "source": [
    "Dopo la \"conversione\", l'oggetto al quale riferisce `a` non e' cambiato. La funzione `float` ha creato un nuovo oggetto."
   ]
  },
  {
   "cell_type": "code",
   "execution_count": 16,
   "metadata": {
    "scrolled": true
   },
   "outputs": [
    {
     "name": "stdout",
     "output_type": "stream",
     "text": [
      "1.0\n",
      "3.0\n",
      "325\n",
      "['foo', 'bar']\n",
      "['S', 'T', 'R', 'I', 'N', 'G', 'A']\n",
      "0x14\n",
      "E\n"
     ]
    }
   ],
   "source": [
    "print(float(True))\n",
    "print(float(3))\n",
    "# print(float([1]))   # Causerebbe un errore, non sa convertire una lista in un float\n",
    "print(int(\"321\")+4)\n",
    "print(list({'foo': 3, 'bar':4}))\n",
    "print(list(\"STRINGA\"))\n",
    "print(hex(20))\n",
    "print(chr(69))"
   ]
  },
  {
   "cell_type": "markdown",
   "metadata": {},
   "source": [
    "\n",
    "\n",
    "Ecco alcune funzioni Python di conversione\n",
    "\n",
    "| Funzione | Argomenti Validi | Output |\n",
    "|:--------:|:-----------------|:-------|\n",
    "| int      | float, str | int\n",
    "| float | str, int | float\n",
    "| str | int, float, list, tuple, dict | str\n",
    "| list | str, tuple, set, dict | list\n",
    "| tuple | str, list, set | tuple\n",
    "| set | str, list, tuple | set\n",
    "| ord | char | int\n",
    "| hex | int | str\n",
    "| oct | int | str\n",
    "| bin | int | str\n",
    "| chr | int | str"
   ]
  },
  {
   "cell_type": "markdown",
   "metadata": {},
   "source": [
    "<H2 style=\"color:red\"> 2. Esercizi Strutture Dati</H2>\n",
    "\n",
    "Caricate il file ``2_Esercizi_TipiDati.py`` e provate a fare gli esercizi proposti."
   ]
  }
 ],
 "metadata": {
  "kernelspec": {
   "display_name": "base",
   "language": "python",
   "name": "python3"
  },
  "language_info": {
   "codemirror_mode": {
    "name": "ipython",
    "version": 3
   },
   "file_extension": ".py",
   "mimetype": "text/x-python",
   "name": "python",
   "nbconvert_exporter": "python",
   "pygments_lexer": "ipython3",
   "version": "3.10.15"
  }
 },
 "nbformat": 4,
 "nbformat_minor": 4
}
